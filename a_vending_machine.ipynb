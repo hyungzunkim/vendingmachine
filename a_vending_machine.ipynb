{
 "cells": [
  {
   "cell_type": "markdown",
   "id": "4a472343",
   "metadata": {},
   "source": [
    "\n",
    "## (주제): 음료수 자동판매기 시뮬레이션 프로그램 \n",
    "### (조건): 아래의 두 가지 class를 디자인\n",
    "1. 음료수 클래스\n",
    "- 음료수의 이름과 가격을 member attribute로 가짐 (예: 오렌지주스/1000원)\n",
    "2. 자동판매기 클래스\n",
    "- 판매중인 음료수 instance 들을 list 형태로 포함한 메뉴 변수를 member attribute로가짐\n",
    "- 판매중인 음료수를 메뉴에 추가 또는 삭제하는 기능을 갖는 member method를 가짐\n",
    "- 판매중인 음료수 메뉴를 모니터에 출력하는 member method를 가짐\n",
    "- 사용자가 원하는 음료 메뉴 및 개수를 선택할 수 있는 member method를 가짐\n",
    "- 음료수를 선택하면 선택한 장바구니가 출력되고 확인 후 키보드로 금액을 입력받는member method를 가짐\n",
    "- 입력한 금액이 부족하면 에러메세지 출력하고, 부족하지 않으면 구매한 음료수들과 계산된 거스름돈을 영수증 형태로 출력하는 member method를 가짐\n",
    "\n",
    "#### (제출물): 아래의 두 가지 python 코드(1+2)를 제출\n",
    "1. 위의두가지class를포함한코드\n",
    "2. 이를 활용하여 간단한 시뮬레이션을 수행하는 코드 (자동판매기 객체가 최소 1개 + 판매하는 음료수 종류 최소 5개)\n",
    "3. 코드를 수행하였을 때 출력되는 결과 정리\n",
    "4. (완성하지 못한 경우) 출력되는 에러메세지 + 에러가 발생하는 이유에 대한 고찰\n",
    "5. 웹사이트 등을 참고한 경우 명확한 Reference list 제시\n",
    "\n",
    "#### (Bonus): 아래 사항을 포함하는 경우 추가 점수 부여\n",
    "1. 음료수 재고관리기능 및 매진 음료수 선택시 에러메세지 출력 기능 추가하는 경우\n",
    "2. 자동판매기 객체를 2개 이상 활용한 시뮬레이션을 수행한 경우\n",
    "3. 기타필수기능조건이외의창의적인기능이효과적으로구현된경우"
   ]
  },
  {
   "cell_type": "markdown",
   "id": "784b1aad",
   "metadata": {},
   "source": [
    "#### `Drinks`"
   ]
  },
  {
   "cell_type": "code",
   "execution_count": 15,
   "id": "12e820d1",
   "metadata": {},
   "outputs": [],
   "source": [
    "class drinks():\n",
    "    # 상품정보, 가격\n",
    "    drinks_name = {'1':'콜라', '2':'주스', '3':'우유', '4':'커피', '5':'환타'}\n",
    "    drinks_price = {'1':500, '2':700, '3':600, '4':800, '5':500}"
   ]
  },
  {
   "cell_type": "markdown",
   "id": "c7f0ad06",
   "metadata": {},
   "source": [
    "#### `Vending Machine`"
   ]
  },
  {
   "cell_type": "code",
   "execution_count": 16,
   "id": "e4e5238f",
   "metadata": {},
   "outputs": [],
   "source": [
    "import sys\n",
    "\n",
    "# 가격은 100원 단위이므로 PRICE_UNIT 상수 값을 100으로 선언한다.\n",
    "PRICE_UNIT = 100\n",
    "\n",
    "class texts:\n",
    "    title          = \"##### Drink VM #####\"\n",
    "    product        = \"%s: %s (%s원)\"\n",
    "    insert_coin    = \"동전을 넣어주세요: (금액: n * 100원)\"\n",
    "    n_enough_coin  = \"동전이 부족합니다. \\n 거스름돈은 %s원 입니다.\"\n",
    "    select_product = \"원하시는 상품번호를 선택하세요.\"\n",
    "    select_fault   = \"잘못 누르셨습니다.\"\n",
    "    product_out    = \"선택하신 %s 입니다. 거스름돈은 %s원 입니다.\\n감사합니다.\"\n",
    "           \n",
    "class Drink_VM():\n",
    "    \n",
    "    def __init__(self):\n",
    "        print(texts.title)\n",
    " \n",
    "    def run(self):\n",
    "        while True:\n",
    "            try:\n",
    "                inputCoin = float(input(texts.insert_coin))\n",
    "                \n",
    "            except ValueError:\n",
    "                # print error\n",
    "                print(texts.select_fault)\n",
    "                \n",
    "            else:\n",
    "                self.selectProduct(inputCoin)   \n",
    "                \n",
    "    def selectProduct(self, coin):\n",
    "        description = ''\n",
    "        for selection, item  in drinks.drinks_name.items():\n",
    "            # 제품 가격을 가져온다.\n",
    "            price = self.getdrinks_price(selection)\n",
    "            description += selection + ':' + item + '(' + str(price) + '원) '\n",
    "        \n",
    "        print(description)\n",
    "        inputProduct = input( texts.select_product )\n",
    "        drinks_price = self.getdrinks_price(inputProduct)\n",
    "\n",
    "        # 입력한 값에 해당하는 내용이 리스트에 없으면 0이 반환된다.\n",
    "        if drinks_price:\n",
    "            productName = self.getProductName(inputProduct)\n",
    "            self.payment(coin, productName, drinks_price)\n",
    "        else:\n",
    "          # 잘못된 값을 입력받으면 에러 메시지를 출력하고 제품선택 메뉴로 이동한다. \n",
    "            print(texts.select_fault)\n",
    "            self.selectProduct(coin)\n",
    "\n",
    "    def getdrinks_price(self, product):\n",
    "        returnValue = 0\n",
    "        \n",
    "        for selection, value in drinks.drinks_price.items():\n",
    "            if selection == product:\n",
    "                returnValue = value\n",
    "\n",
    "        return returnValue\n",
    "\n",
    "    def getProductName(self, product):\n",
    "        for selection, name in drinks.drinks_name.items():\n",
    "            if selection == product:\n",
    "                return name\n",
    "\n",
    "    def payment(self, coin, name, value):\n",
    "        coinValue = coin * PRICE_UNIT\n",
    "        \n",
    "        if coinValue >= value:\n",
    "            balance = coinValue - value\n",
    "            print(texts.product_out %(name, int(balance)))\n",
    "        \n",
    "        else:\n",
    "            print(texts.n_enough_coin %int(coinValue))\n",
    "            \n",
    "        # 지불을 마치면 초기 메뉴로 이동한다.           \n",
    "        self.run()"
   ]
  },
  {
   "cell_type": "markdown",
   "id": "e0479237",
   "metadata": {},
   "source": [
    "#### `Run Code`"
   ]
  },
  {
   "cell_type": "code",
   "execution_count": 17,
   "id": "330a092e",
   "metadata": {},
   "outputs": [
    {
     "name": "stdout",
     "output_type": "stream",
     "text": [
      "##### Drink VM #####\n",
      "동전을 넣어주세요: (금액: n * 100원)10\n",
      "1:콜라(500원) 2:주스(700원) 3:우유(600원) 4:커피(800원) 5:환타(500원) \n",
      "원하시는 상품번호를 선택하세요.2\n",
      "선택하신 주스 입니다. 거스름돈은 300원 입니다.\n",
      "감사합니다.\n",
      "동전을 넣어주세요: (금액: n * 100원)5\n",
      "1:콜라(500원) 2:주스(700원) 3:우유(600원) 4:커피(800원) 5:환타(500원) \n",
      "원하시는 상품번호를 선택하세요.3\n",
      "동전이 부족합니다. \n",
      " 거스름돈은 500원 입니다.\n",
      "판매를 종료합니다.\n",
      "동전을 넣어주세요: (금액: n * 100원)\n"
     ]
    }
   ],
   "source": [
    "if __name__ == '__main__':\n",
    "\n",
    "    vm = Drink_VM()\n",
    "    while True:\n",
    "        \n",
    "        try:\n",
    "            vm.run()\n",
    "\n",
    "        except KeyboardInterrupt as exc:\n",
    "            print(\"판매를 종료합니다.\")\n",
    "            \n",
    "        break"
   ]
  },
  {
   "cell_type": "markdown",
   "id": "0ceedbbb",
   "metadata": {},
   "source": [
    "참고: https://www.youtube.com/watch?v=Pd4zVSoMQNs"
   ]
  },
  {
   "cell_type": "code",
   "execution_count": null,
   "id": "e901ee19",
   "metadata": {},
   "outputs": [],
   "source": []
  }
 ],
 "metadata": {
  "kernelspec": {
   "display_name": "Python 3 (ipykernel)",
   "language": "python",
   "name": "python3"
  },
  "language_info": {
   "codemirror_mode": {
    "name": "ipython",
    "version": 3
   },
   "file_extension": ".py",
   "mimetype": "text/x-python",
   "name": "python",
   "nbconvert_exporter": "python",
   "pygments_lexer": "ipython3",
   "version": "3.9.7"
  }
 },
 "nbformat": 4,
 "nbformat_minor": 5
}
